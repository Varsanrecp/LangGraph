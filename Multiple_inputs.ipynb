{
 "cells": [
  {
   "cell_type": "code",
   "execution_count": null,
   "id": "70ccdacf",
   "metadata": {},
   "outputs": [],
   "source": [
    "from typing import TypedDict, List\n",
    "from langgraph.graph import StateGraph "
   ]
  },
  {
   "cell_type": "code",
   "execution_count": 5,
   "id": "97bdafa2",
   "metadata": {},
   "outputs": [],
   "source": [
    "class AgentState(TypedDict):\n",
    "    values: List[str]\n",
    "    name: str\n",
    "    result: str\n"
   ]
  },
  {
   "cell_type": "code",
   "execution_count": 9,
   "id": "8abac42e",
   "metadata": {},
   "outputs": [],
   "source": [
    "def process_values(state: AgentState) -> AgentState:\n",
    "    \"\"\"This function handles multiple different inputs\"\"\"\n",
    "    print(state)\n",
    "\n",
    "    state[\"result\"] = f\"Hi there {state[\"name\"]}! Your sum = {sum(state[\"values\"])}\"\n",
    "\n",
    "    print(state)\n",
    "    return state"
   ]
  },
  {
   "cell_type": "code",
   "execution_count": 10,
   "id": "06970b92",
   "metadata": {},
   "outputs": [],
   "source": [
    "graph = StateGraph(AgentState)\n",
    "graph.add_node(\"processor\",process_values)\n",
    "\n",
    "graph.set_entry_point(\"processor\")\n",
    "graph.set_finish_point(\"processor\")\n",
    "\n",
    "app = graph.compile()"
   ]
  },
  {
   "cell_type": "code",
   "execution_count": 8,
   "id": "645d966c",
   "metadata": {},
   "outputs": [
    {
     "data": {
      "image/png": "[encoded data removed]",
      "text/plain": [
       "<IPython.core.display.Image object>"
      ]
     },
     "metadata": {},
     "output_type": "display_data"
    }
   ],
   "source": [
    "\n",
    "from IPython.display import Image, display\n",
    "display(Image(app.get_graph().draw_mermaid_png()))"
   ]
  },
  {
   "cell_type": "code",
   "execution_count": 11,
   "id": "8cf0932e",
   "metadata": {},
   "outputs": [
    {
     "name": "stdout",
     "output_type": "stream",
     "text": [
      "{'values': [1, 2, 3, 4, 5], 'name': 'Alice'}\n",
      "{'values': [1, 2, 3, 4, 5], 'name': 'Alice', 'result': 'Hi there Alice! Your sum = 15'}\n"
     ]
    }
   ],
   "source": [
    "res = app.invoke({\"values\": [1,2,3,4,5], \"name\": \"Alice\"})"
   ]
  },
  {
   "cell_type": "code",
   "execution_count": 13,
   "id": "9003e4bc",
   "metadata": {},
   "outputs": [
    {
     "name": "stdout",
     "output_type": "stream",
     "text": [
      "Hi there Alice! Your sum = 15\n"
     ]
    }
   ],
   "source": [
    "print(res[\"result\"])"
   ]
  },
  {
   "cell_type": "code",
   "execution_count": 15,
   "id": "9617558c",
   "metadata": {},
   "outputs": [],
   "source": [
    "# exercies - 2\n",
    "\n",
    "# 1. Create a function that takes in a list of numbers and a string operation (\"sum\" or \"product\") and returns the result of that operation on the list.\n",
    "# 2. Build a StateGraph that uses this function as a node, allowing users to specify the operation and the list of numbers as inputs.\n",
    "# 3. Test the graph with different inputs to ensure it works correctly for both operations. \n",
    "\n",
    "from typing import TypedDict, List\n",
    "from langgraph.graph import StateGraph\n",
    "\n",
    "class AgentState(TypedDict):\n",
    "    numbers: List[int]\n",
    "    name: str\n",
    "    operation: str\n",
    "    result: str\n",
    "\n",
    "def compute(state: AgentState) -> AgentState:\n",
    "    \"\"\"This function computes sum or product based on the operation specified\"\"\"\n",
    "    \n",
    "    if state[\"operation\"] == \"+\":\n",
    "        state[\"result\"]= f\"Hi {state['name']}! The sum is {sum(state['numbers'])}\"\n",
    "    elif state[\"operation\"] == \"*\":\n",
    "        pro = 1\n",
    "        for num in state[\"numbers\"]:\n",
    "            pro *= num\n",
    "        state[\"result\"]= f\"Hi {state['name']}! The product is {pro}\"\n",
    "    else:\n",
    "        state[\"result\"]= \"Invalid operation\"\n",
    "    \n",
    "    return state\n",
    "    "
   ]
  },
  {
   "cell_type": "code",
   "execution_count": 16,
   "id": "8994de0a",
   "metadata": {},
   "outputs": [],
   "source": [
    "graph= StateGraph(AgentState)\n",
    "graph.add_node(\"compute_node\", compute)\n",
    "graph.set_entry_point(\"compute_node\")\n",
    "graph.set_finish_point(\"compute_node\")\n",
    "\n",
    "app= graph.compile()"
   ]
  },
  {
   "cell_type": "code",
   "execution_count": 17,
   "id": "ea914f88",
   "metadata": {},
   "outputs": [
    {
     "data": {
      "image/png": "[encoded data removed]",
      "text/plain": [
       "<IPython.core.display.Image object>"
      ]
     },
     "metadata": {},
     "output_type": "display_data"
    }
   ],
   "source": [
    "\n",
    "from IPython.display import Image, display\n",
    "display(Image(app.get_graph().draw_mermaid_png()))"
   ]
  },
  {
   "cell_type": "code",
   "execution_count": 21,
   "id": "e5e2b5e6",
   "metadata": {},
   "outputs": [
    {
     "name": "stdout",
     "output_type": "stream",
     "text": [
      "Hi Bob! The product is 24\n"
     ]
    }
   ],
   "source": [
    "result = app.invoke({\"numbers\": [1,2,3,4], \"name\": \"Bob\", \"operation\": \"*\"})\n",
    "print(result[\"result\"])"
   ]
  },
  {
   "cell_type": "code",
   "execution_count": null,
   "id": "c9d88030",
   "metadata": {},
   "outputs": [],
   "source": []
  }
 ],
 "metadata": {
  "kernelspec": {
   "display_name": "Python 3",
   "language": "python",
   "name": "python3"
  },
  "language_info": {
   "codemirror_mode": {
    "name": "ipython",
    "version": 3
   },
   "file_extension": ".py",
   "mimetype": "text/x-python",
   "name": "python",
   "nbconvert_exporter": "python",
   "pygments_lexer": "ipython3",
   "version": "3.13.2"
  }
 },
 "nbformat": 4,
 "nbformat_minor": 5
}
