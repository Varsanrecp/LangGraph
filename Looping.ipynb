{
 "cells": [
  {
   "cell_type": "code",
   "execution_count": 1,
   "id": "cc032fd1",
   "metadata": {},
   "outputs": [],
   "source": [
    "from langgraph.graph import StateGraph, END\n",
    "import random\n",
    "from typing import Dict, List, TypedDict"
   ]
  },
  {
   "cell_type": "code",
   "execution_count": 9,
   "id": "3718413b",
   "metadata": {},
   "outputs": [],
   "source": [
    "class AgentState(TypedDict):\n",
    "    name : str\n",
    "    number : List[int]\n",
    "    counter: int"
   ]
  },
  {
   "cell_type": "code",
   "execution_count": 10,
   "id": "aa18aad4",
   "metadata": {},
   "outputs": [],
   "source": [
    "def greeting_node(state: AgentState) -> AgentState:\n",
    "    \"\"\"Node says Hi to the person\"\"\"\n",
    "\n",
    "    \n",
    "    state[\"name\"] = f\"Hi there, {state[\"name\"]}\"\n",
    "    state[\"counter\"] = 0\n",
    "\n",
    "    return state\n",
    "\n",
    "def random_node(state: AgentState) -> AgentState:\n",
    "    \"\"\"Node generates a random number from 1 to 10  \"\"\"\n",
    "    state[\"number\"].append(random.randint(1, 10))\n",
    "    state[\"counter\"] += 1\n",
    "    return state\n",
    "\n",
    "\n",
    "def should_continue(state: AgentState) -> AgentState:\n",
    "    \"\"\"Function to decide what to do next\"\"\"\n",
    "    if state[\"counter\"] < 5:\n",
    "        print(\"ENTERING LOOP\", state[\"counter\"])\n",
    "        return \"loop\"  # Continue looping\n",
    "    else:\n",
    "        return \"exit\"  # Exit the loop\n"
   ]
  },
  {
   "cell_type": "code",
   "execution_count": 11,
   "id": "5cfca472",
   "metadata": {},
   "outputs": [],
   "source": [
    "graph = StateGraph(AgentState)\n",
    "\n",
    "graph.add_node(\"greeting\", greeting_node)\n",
    "graph.add_node(\"random\", random_node)\n",
    "graph.add_edge(\"greeting\", \"random\")\n",
    "\n",
    "\n",
    "graph.add_conditional_edges(\n",
    "    \"random\",     # Source node\n",
    "    should_continue, # Action\n",
    "    {\n",
    "        \"loop\": \"random\",  \n",
    "        \"exit\": END          \n",
    "    }\n",
    ")\n",
    "\n",
    "graph.set_entry_point(\"greeting\")\n",
    "\n",
    "app = graph.compile()"
   ]
  },
  {
   "cell_type": "code",
   "execution_count": 6,
   "id": "63714d3b",
   "metadata": {},
   "outputs": [
    {
     "data": {
      "image/png": "[encoded data removed]",
      "text/plain": [
       "<IPython.core.display.Image object>"
      ]
     },
     "metadata": {},
     "output_type": "display_data"
    }
   ],
   "source": [
    "from IPython.display import Image, display\n",
    "display(Image(app.get_graph().draw_mermaid_png()))"
   ]
  },
  {
   "cell_type": "code",
   "execution_count": 12,
   "id": "0fc6ed75",
   "metadata": {},
   "outputs": [
    {
     "name": "stdout",
     "output_type": "stream",
     "text": [
      "ENTERING LOOP 1\n",
      "ENTERING LOOP 2\n",
      "ENTERING LOOP 3\n",
      "ENTERING LOOP 4\n"
     ]
    },
    {
     "data": {
      "text/plain": [
       "{'name': 'Hi there, Bob', 'number': [6, 7, 10, 7, 6], 'counter': 5}"
      ]
     },
     "execution_count": 12,
     "metadata": {},
     "output_type": "execute_result"
    }
   ],
   "source": [
    "app.invoke({\"name\": \"Bob\", \"number\": [], \"counter\": -1})"
   ]
  },
  {
   "cell_type": "code",
   "execution_count": 21,
   "id": "bbd502b2",
   "metadata": {},
   "outputs": [],
   "source": [
    "# Exercise - 5\n",
    "# Automatic Higher or Lower Game.\n",
    "from langgraph.graph import StateGraph, END\n",
    "import random\n",
    "from typing import Dict, List, TypedDict\n"
   ]
  },
  {
   "cell_type": "code",
   "execution_count": 25,
   "id": "90d9a124",
   "metadata": {},
   "outputs": [],
   "source": [
    "class GameState(TypedDict):\n",
    "    player_name: str\n",
    "    target_number: int\n",
    "    guesses: List[int]\n",
    "    attempts: int\n",
    "    hint: str\n",
    "    lower_bound: int \n",
    "    upper_bound: int \n",
    "\n",
    "def setup_node(state: GameState) -> GameState:\n",
    "    \"\"\"Initialize the game with a random target number\"\"\"\n",
    "    state[\"player_name\"] = f\"Welcome, {state['player_name']}!\"\n",
    "    state[\"target_number\"] = random.randint(1, 20)\n",
    "    state[\"guesses\"] = []\n",
    "    state[\"attempts\"] = 0\n",
    "    state[\"hint\"] = \"Game started! Try to guess the number.\"\n",
    "    state[\"lower_bound\"] = 1 \n",
    "    state[\"upper_bound\"] = 20 \n",
    "    print(f\"{state['player_name']} The game has begun. I'm thinking of a number between 1 and 20.\")\n",
    "    return state\n",
    "\n",
    "def guess_node(state: GameState) -> GameState:\n",
    "    \"\"\"Generate a smarter guess based on previous hints\"\"\"\n",
    "    possible_guesses = [i for i in range(state[\"lower_bound\"], state[\"upper_bound\"] + 1) if i not in state[\"guesses\"]]\n",
    "    if possible_guesses:\n",
    "        guess = random.choice(possible_guesses)\n",
    "    else:\n",
    "        guess = random.randint(state[\"lower_bound\"], state[\"upper_bound\"])\n",
    "    \n",
    "    state[\"guesses\"].append(guess)\n",
    "    state[\"attempts\"] += 1\n",
    "    print(f\"Attempt {state['attempts']}: Guessing {guess} (Current range: {state['lower_bound']}-{state['upper_bound']})\")\n",
    "\n",
    "    return state\n",
    "\n",
    "def hint_node(state: GameState) -> GameState:\n",
    "    \"\"\"Provide hints based on the latest guess\"\"\"\n",
    "    last_guess = state[\"guesses\"][-1]\n",
    "    target = state[\"target_number\"]\n",
    "\n",
    "    if last_guess < target:\n",
    "        state[\"hint\"] = f\"The number {last_guess} is too low!, Try Higher\"\n",
    "\n",
    "        state[\"lower_bound\"] = max(state[\"lower_bound\"], last_guess + 1)\n",
    "        print(f\"Hint: {state['hint']}\")\n",
    "    \n",
    "    elif last_guess > target:\n",
    "        state[\"hint\"] = f\"The number {last_guess} is too high!, Try Lower\"\n",
    "\n",
    "        state[\"upper_bound\"] = min(state[\"upper_bound\"], last_guess - 1)\n",
    "        print(f\"Hint: {state['hint']}\")\n",
    "    else:\n",
    "        state[\"hint\"] = f\"Congratulations! You've guessed the number {target} in {state['attempts']} attempts.\"\n",
    "        print(f\"Success {state[\"hint\"]}\")\n",
    "\n",
    "    return state\n",
    "\n",
    "def should_continue(state: GameState) -> GameState:\n",
    "    \"\"\"Decide whether to continue guessing or end the game\"\"\"\n",
    "    last_guess = state[\"guesses\"][-1]\n",
    "    if last_guess == state[\"target_number\"]:\n",
    "        print(\"Game over , Number found !\")\n",
    "        return \"end\"\n",
    "    elif state[\"attempts\"] >= 7:\n",
    "        print(f\"Game over , Maximum attempts reached !, The number was {state['target_number']}\")\n",
    "        return \"end\"\n",
    "    else:\n",
    "        print(f\"Continuing the game , Attempts so far : {state['attempts']}\")\n",
    "        return \"continue\"\n",
    "        "
   ]
  },
  {
   "cell_type": "code",
   "execution_count": 26,
   "id": "37eb4891",
   "metadata": {},
   "outputs": [],
   "source": [
    "graph = StateGraph(GameState)\n",
    "\n",
    "graph.add_node(\"setup\", setup_node)\n",
    "graph.add_node(\"guess\", guess_node)\n",
    "graph.add_node(\"hint\", hint_node)\n",
    "\n",
    "graph.add_edge(\"setup\", \"guess\")\n",
    "graph.add_edge(\"guess\", \"hint\")\n",
    "\n",
    "graph.add_conditional_edges(\n",
    "    \"hint\",\n",
    "    should_continue,\n",
    "    {\n",
    "        \"continue\": \"guess\",\n",
    "        \"end\": END\n",
    "    }\n",
    ")\n",
    "graph.set_entry_point(\"setup\")\n",
    "app = graph.compile()"
   ]
  },
  {
   "cell_type": "code",
   "execution_count": 27,
   "id": "6ebc4d5d",
   "metadata": {},
   "outputs": [
    {
     "data": {
      "image/png": "[encoded data removed]",
      "text/plain": [
       "<IPython.core.display.Image object>"
      ]
     },
     "metadata": {},
     "output_type": "display_data"
    }
   ],
   "source": [
    "from IPython.display import Image, display\n",
    "display(Image(app.get_graph().draw_mermaid_png()))"
   ]
  },
  {
   "cell_type": "code",
   "execution_count": 42,
   "id": "0d2a81f8",
   "metadata": {},
   "outputs": [
    {
     "name": "stdout",
     "output_type": "stream",
     "text": [
      "Welcome, Alice! The game has begun. I'm thinking of a number between 1 and 20.\n",
      "Attempt 1: Guessing 10 (Current range: 1-20)\n",
      "Success Congratulations! You've guessed the number 10 in 1 attempts.\n",
      "Game over , Number found !\n"
     ]
    }
   ],
   "source": [
    "result = app.invoke({\"player_name\": \"Alice\", \"guesses\": [], \"attempts\": 0,  \"lower_bound\":1, \"upper_bound\":20})"
   ]
  },
  {
   "cell_type": "code",
   "execution_count": null,
   "id": "8c8f6de8",
   "metadata": {},
   "outputs": [],
   "source": []
  },
  {
   "cell_type": "code",
   "execution_count": null,
   "id": "4c890d54",
   "metadata": {},
   "outputs": [],
   "source": []
  }
 ],
 "metadata": {
  "kernelspec": {
   "display_name": "Python 3",
   "language": "python",
   "name": "python3"
  },
  "language_info": {
   "codemirror_mode": {
    "name": "ipython",
    "version": 3
   },
   "file_extension": ".py",
   "mimetype": "text/x-python",
   "name": "python",
   "nbconvert_exporter": "python",
   "pygments_lexer": "ipython3",
   "version": "3.13.2"
  }
 },
 "nbformat": 4,
 "nbformat_minor": 5
}
